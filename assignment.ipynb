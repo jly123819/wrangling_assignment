{
 "cells": [
  {
   "cell_type": "markdown",
   "id": "13ad028b-72b7-43ed-aa78-96fd4e518040",
   "metadata": {
    "id": "13ad028b-72b7-43ed-aa78-96fd4e518040"
   },
   "source": [
    "# Assignment: Data Wrangling\n",
    "### `! git clone https://github.com/ds3001f25/wrangling_assignment.git`\n",
    "### Do Q1 and Q2\n",
    "### Reading material: `tidy_data.pdf`"
   ]
  },
  {
   "cell_type": "markdown",
   "id": "da879ea7-8aac-48a3-b6c2-daea56d2e072",
   "metadata": {
    "id": "da879ea7-8aac-48a3-b6c2-daea56d2e072"
   },
   "source": [
    "**Q1.** This question provides some practice cleaning variables which have common problems.\n",
    "1. Numeric variable: For `./data/airbnb_hw.csv`, clean the `Price` variable as well as you can, and explain the choices you make. How many missing values do you end up with? (Hint: What happens to the formatting when a price goes over 999 dollars, say from 675 to 1,112?)\n",
    "2. Categorical variable: For the Minnesota police use of for data, `./data/mn_police_use_of_force.csv`, clean the `subject_injury` variable, handling the NA's; this gives a value `Yes` when a person was injured by police, and `No` when no injury occurred. What proportion of the values are missing? Is this a concern? Cross-tabulate your cleaned `subject_injury` variable with the `force_type` variable. Are there any patterns regarding when the data are missing? \n",
    "3. Dummy variable: For the pretrial data covered in the lecture `./data/justice_data.parquet`, clean the `WhetherDefendantWasReleasedPretrial` variable as well as you can, and, in particular, replace missing values with `np.nan`.\n",
    "4. Missing values, not at random: For the pretrial data covered in the lecture, clean the `ImposedSentenceAllChargeInContactEvent` variable as well as you can, and explain the choices you make. (Hint: Look at the `SentenceTypeAllChargesAtConvictionInContactEvent` variable.)"
   ]
  },
  {
   "cell_type": "markdown",
   "id": "d1d27e7c",
   "metadata": {},
   "source": [
    "Q1.1"
   ]
  },
  {
   "cell_type": "code",
   "execution_count": 21,
   "id": "9d412a8d",
   "metadata": {},
   "outputs": [
    {
     "name": "stdout",
     "output_type": "stream",
     "text": [
      "Total rows: 30478\n",
      "Missing values: 0\n",
      "Missing ratio: 0.00%\n"
     ]
    }
   ],
   "source": [
    "import pandas as pd\n",
    "\n",
    "# load dataset\n",
    "airbnb = pd.read_csv(\"/Users/lingyueji/Desktop/DS3001/wrangling_assignment/data/airbnb_hw.csv\")\n",
    "\n",
    "# 1. Remove non-numeric characters (commas, dollar signs, etc.) from Price\n",
    "airbnb[\"Price_clean\"] = (\n",
    "    airbnb[\"Price\"]\n",
    "    .astype(str)  # make sure it's a string\n",
    "    .str.replace(r\"[^0-9.]\", \"\", regex=True)  # keep only numbers and decimal points\n",
    ")\n",
    "\n",
    "# 2. Convert to numeric type\n",
    "airbnb[\"Price_clean\"] = pd.to_numeric(airbnb[\"Price_clean\"], errors=\"coerce\")\n",
    "\n",
    "# 3. Count missing values\n",
    "missing_count = airbnb[\"Price_clean\"].isna().sum()\n",
    "total_count = len(airbnb)\n",
    "missing_ratio = missing_count / total_count\n",
    "\n",
    "print(f\"Total rows: {total_count}\")\n",
    "print(f\"Missing values: {missing_count}\")\n",
    "print(f\"Missing ratio: {missing_ratio:.2%}\")"
   ]
  },
  {
   "cell_type": "markdown",
   "id": "11cf10c0",
   "metadata": {},
   "source": [
    "Q1.2"
   ]
  },
  {
   "cell_type": "code",
   "execution_count": 22,
   "id": "9c3d5da6",
   "metadata": {},
   "outputs": [
    {
     "name": "stdout",
     "output_type": "stream",
     "text": [
      "Missing ratio (before imputation): 76.19%\n",
      "\n",
      "Missing ratio by top force_type (before imputation):\n",
      "force_type_norm\n",
      "less lethal                    1.000000\n",
      "maximal restraint technique    1.000000\n",
      "chemical irritant              0.892028\n",
      "taser                          0.753634\n",
      "bodily force                   0.747720\n",
      "baton                          0.500000\n",
      "improvised weapon              0.500000\n",
      "police k9 bite                 0.402597\n",
      "gun point display              0.259615\n",
      "less lethal projectile         0.000000\n",
      "Name: missing, dtype: float64\n",
      "\n",
      "Missing ratio (after imputation): 0.00%\n",
      "\n",
      "Distribution after imputation:\n",
      "subject_injury_imputed\n",
      "No     0.678375\n",
      "Yes    0.321625\n",
      "Name: proportion, dtype: float64\n",
      "\n",
      "Row-normalized crosstab of force_type × subject_injury (after imputation):\n",
      "subject_injury_imputed          No    Yes\n",
      "force_type_norm                          \n",
      "baton                        0.000  1.000\n",
      "less lethal                  0.000  1.000\n",
      "police k9 bite               0.026  0.974\n",
      "chemical irritant            0.082  0.918\n",
      "taser                        0.115  0.885\n",
      "less lethal projectile       0.333  0.667\n",
      "gun point display            0.577  0.423\n",
      "improvised weapon            0.730  0.270\n",
      "bodily force                 0.864  0.136\n",
      "firearm                      1.000  0.000\n",
      "maximal restraint technique  1.000  0.000\n"
     ]
    }
   ],
   "source": [
    "import pandas as pd\n",
    "import numpy as np\n",
    "\n",
    "# Load data\n",
    "uof = pd.read_csv(\"/Users/lingyueji/Desktop/DS3001/wrangling_assignment/data/mn_police_use_of_force.csv\", low_memory=False)\n",
    "\n",
    "# 1) subject_injury already has values in {\"Yes\",\"No\", NaN}\n",
    "#    -> Just copy to a normalized column for clarity\n",
    "uof[\"subject_injury_norm\"] = uof[\"subject_injury\"]\n",
    "\n",
    "# 2) Missingness summary\n",
    "missing_ratio = uof[\"subject_injury_norm\"].isna().mean()\n",
    "print(f\"Missing ratio (before imputation): {missing_ratio:.2%}\")\n",
    "\n",
    "# 3) Does missingness look systematic? Check by force_type\n",
    "uof[\"force_type_norm\"] = (\n",
    "    uof[\"force_type\"].astype(str).str.strip().str.lower().replace({\"nan\": np.nan})\n",
    ")\n",
    "\n",
    "top_force = uof[\"force_type_norm\"].value_counts().head(10).index.tolist()\n",
    "missing_by_force = (\n",
    "    uof.assign(missing=uof[\"subject_injury_norm\"].isna())\n",
    "       .loc[uof[\"force_type_norm\"].isin(top_force)]\n",
    "       .groupby(\"force_type_norm\")[\"missing\"]\n",
    "       .mean()\n",
    "       .sort_values(ascending=False)\n",
    ")\n",
    "print(\"\\nMissing ratio by top force_type (before imputation):\")\n",
    "print(missing_by_force)\n",
    "\n",
    "# 4) Imputation policy — pick ONE of the following:\n",
    "\n",
    "## (A) Conservative policy: impute missing -> \"No\"\n",
    "# uof[\"subject_injury_imputed\"] = uof[\"subject_injury_norm\"].fillna(\"No\")\n",
    "\n",
    "## (B) Severity-based policy: high-severity force -> \"Yes\", otherwise \"No\"\n",
    "high_severity_keywords = [\n",
    "    \"firearm\", \"taser\", \"k9\", \"canine\", \"pepper\", \"chemical\",\n",
    "    \"impact\", \"baton\", \"less lethal\", \"beanbag\"\n",
    "]\n",
    "def impute_injury(row):\n",
    "    val = row[\"subject_injury_norm\"]\n",
    "    if pd.notna(val):\n",
    "        return val\n",
    "    f = str(row[\"force_type_norm\"])\n",
    "    return \"Yes\" if any(k in f for k in high_severity_keywords) else \"No\"\n",
    "\n",
    "uof[\"subject_injury_imputed\"] = uof.apply(impute_injury, axis=1)\n",
    "\n",
    "# 5) Post-imputation checks\n",
    "post_missing = uof[\"subject_injury_imputed\"].isna().mean()\n",
    "dist_after = uof[\"subject_injury_imputed\"].value_counts(normalize=True)\n",
    "print(\"\\nMissing ratio (after imputation):\", f\"{post_missing:.2%}\")\n",
    "print(\"\\nDistribution after imputation:\")\n",
    "print(dist_after)\n",
    "\n",
    "# 6) Crosstab with force_type (row-normalized)\n",
    "ct = pd.crosstab(\n",
    "    uof[\"force_type_norm\"],\n",
    "    uof[\"subject_injury_imputed\"],\n",
    "    normalize=\"index\"\n",
    ").round(3).sort_values(by=\"Yes\", ascending=False)\n",
    "\n",
    "print(\"\\nRow-normalized crosstab of force_type × subject_injury (after imputation):\")\n",
    "print(ct.head(15))\n"
   ]
  },
  {
   "cell_type": "markdown",
   "id": "add7d9b1",
   "metadata": {},
   "source": [
    "Q1.3"
   ]
  },
  {
   "cell_type": "code",
   "execution_count": 23,
   "id": "24ac0f93",
   "metadata": {},
   "outputs": [
    {
     "name": "stdout",
     "output_type": "stream",
     "text": [
      "   WhetherDefendantWasReleasedPretrial\n",
      "0                                    9\n",
      "1                                    0\n",
      "2                                    0\n",
      "3                                    0\n",
      "4                                    1\n"
     ]
    }
   ],
   "source": [
    "import pandas as pd\n",
    "import numpy as np\n",
    "\n",
    "# Load the dataset\n",
    "justice_df = pd.read_parquet('/Users/lingyueji/Desktop/DS3001/wrangling_assignment/data/justice_data.parquet')\n",
    "\n",
    "# Clean the 'WhetherDefendantWasReleasedPretrial' column by replacing 'None' with 'np.nan' (missing values)\n",
    "justice_df['WhetherDefendantWasReleasedPretrial'] = justice_df['WhetherDefendantWasReleasedPretrial'].replace({None: np.nan})\n",
    "\n",
    "# Display the cleaned data for the 'WhetherDefendantWasReleasedPretrial' column\n",
    "print(justice_df[['WhetherDefendantWasReleasedPretrial']].head())"
   ]
  },
  {
   "cell_type": "markdown",
   "id": "847f7425",
   "metadata": {},
   "source": [
    "Q1.4"
   ]
  },
  {
   "cell_type": "code",
   "execution_count": 24,
   "id": "7f95e85d",
   "metadata": {},
   "outputs": [
    {
     "name": "stdout",
     "output_type": "stream",
     "text": [
      "  ImposedSentenceAllChargeInContactEvent\n",
      "0                                       \n",
      "1                                     60\n",
      "2                                     12\n",
      "3                       .985626283367556\n",
      "4                                       \n"
     ]
    }
   ],
   "source": [
    "# Clean the 'ImposedSentenceAllChargeInContactEvent' column\n",
    "# Based on the values in the 'SentenceTypeAllChargesAtConvictionInContactEvent' column, \n",
    "# decide how to fill the 'ImposedSentenceAllChargeInContactEvent' column\n",
    "for index, row in justice_df.iterrows():\n",
    "    # Check if 'SentenceTypeAllChargesAtConvictionInContactEvent' is missing (NaN)\n",
    "    if pd.isnull(row['SentenceTypeAllChargesAtConvictionInContactEvent']):\n",
    "        # If it is missing, set 'ImposedSentenceAllChargeInContactEvent' to NaN\n",
    "        justice_df.at[index, 'ImposedSentenceAllChargeInContactEvent'] = np.nan\n",
    "\n",
    "# Display the cleaned data for the 'ImposedSentenceAllChargeInContactEvent' column\n",
    "print(justice_df[['ImposedSentenceAllChargeInContactEvent']].head())\n"
   ]
  },
  {
   "cell_type": "markdown",
   "id": "5a60a44e",
   "metadata": {},
   "source": [
    "**Q2.** Go to https://sharkattackfile.net/ and download their dataset on shark attacks (Hint: `GSAF5.xls`).\n",
    "\n",
    "1. Open the shark attack file using Pandas. It is probably not a csv file, so `read_csv` won't work.\n",
    "2. Drop any columns that do not contain data.\n",
    "3. Clean the year variable. Describe the range of values you see. Filter the rows to focus on attacks since 1940. Are attacks increasing, decreasing, or remaining constant over time?\n",
    "4. Clean the Age variable and make a histogram of the ages of the victims.\n",
    "5. What proportion of victims are male?\n",
    "6. Clean the `Type` variable so it only takes three values: Provoked and Unprovoked and Unknown. What proportion of attacks are unprovoked?\n",
    "7. Clean the `Fatal Y/N` variable so it only takes three values: Y, N, and Unknown.\n",
    "8. Are sharks more likely to launch unprovoked attacks on men or women? Is the attack more or less likely to be fatal when the attack is provoked or unprovoked? Is it more or less likely to be fatal when the victim is male or female? How do you feel about sharks?\n",
    "9. What proportion of attacks appear to be by white sharks? (Hint: `str.split()` makes a vector of text values into a list of lists, split by spaces.)"
   ]
  },
  {
   "cell_type": "markdown",
   "id": "fff7cd9c",
   "metadata": {},
   "source": [
    "Q2.1"
   ]
  },
  {
   "cell_type": "code",
   "execution_count": 25,
   "id": "c2d3dd77",
   "metadata": {},
   "outputs": [
    {
     "name": "stdout",
     "output_type": "stream",
     "text": [
      "               Date    Year        Type      Country  \\\n",
      "0  16th August 2025  2025.0    Provoked          USA   \n",
      "1       18th August  2025.0  Unprovoked    Australia   \n",
      "2       17th August  2025.0  Unprovoked      Bahamas   \n",
      "3        7th August  2025.0  Unprovoked    Australia   \n",
      "4        1st August  2025.0  Unprovoked  Puerto Rico   \n",
      "\n",
      "                               State                             Location  \\\n",
      "0                            Florida               Cayo Costa Boca Grande   \n",
      "1                                NSW                       Cabarita Beach   \n",
      "2  Atlantic Ocean near Big Grand Cay  North of Grand Bahama near Freeport   \n",
      "3                                NSW                        Tathra Beach    \n",
      "4                           Carolina                       Carolina Beach   \n",
      "\n",
      "       Activity          Name Sex Age  ...                 Species   \\\n",
      "0       Fishing   Shawn Meuse   M   ?  ...  Lemon shark 1.8 m (6ft)   \n",
      "1       Surfing     Brad Ross   M   ?  ...  5m (16.5ft) Great White   \n",
      "2  Spearfishing    Not stated   M  63  ...             Undetermined   \n",
      "3       Surfing   Bowie Daley   M   9  ...    Suspected Great White   \n",
      "4        Wading  Eleonora Boi   F  39  ...             Undetermined   \n",
      "\n",
      "                                              Source  pdf href formula href  \\\n",
      "0  Johannes Marchand: Kevin McMurray Trackingshar...  NaN          NaN  NaN   \n",
      "1  Bob Myatt GSAF The Guardian: 9 News: ABS News:...  NaN          NaN  NaN   \n",
      "2  Ralph Collier GSAF and Kevin MCMurray Tracking...  NaN          NaN  NaN   \n",
      "3                                     Bob Myatt GSAF  NaN          NaN  NaN   \n",
      "4         Kevin McMurray Trackingsharks.com: NY Post  NaN          NaN  NaN   \n",
      "\n",
      "  Case Number Case Number.1 original order Unnamed: 21 Unnamed: 22  \n",
      "0         NaN           NaN            NaN         NaN         NaN  \n",
      "1         NaN           NaN            NaN         NaN         NaN  \n",
      "2         NaN           NaN            NaN         NaN         NaN  \n",
      "3         NaN           NaN            NaN         NaN         NaN  \n",
      "4         NaN           NaN            NaN         NaN         NaN  \n",
      "\n",
      "[5 rows x 23 columns]\n"
     ]
    }
   ],
   "source": [
    "import pandas as pd\n",
    "\n",
    "# Q2.1: Load the dataset from the Excel file\n",
    "shark_attack_df = pd.read_excel('/Users/lingyueji/Desktop/DS3001/wrangling_assignment/GSAF5.xls')\n",
    "# Check the first few rows \n",
    "print(shark_attack_df.head())"
   ]
  },
  {
   "cell_type": "markdown",
   "id": "bb084317",
   "metadata": {},
   "source": [
    "Q2.2"
   ]
  },
  {
   "cell_type": "code",
   "execution_count": 26,
   "id": "6efec5b1",
   "metadata": {},
   "outputs": [
    {
     "name": "stdout",
     "output_type": "stream",
     "text": [
      "               Date    Year        Type      Country  \\\n",
      "0  16th August 2025  2025.0    Provoked          USA   \n",
      "1       18th August  2025.0  Unprovoked    Australia   \n",
      "2       17th August  2025.0  Unprovoked      Bahamas   \n",
      "3        7th August  2025.0  Unprovoked    Australia   \n",
      "4        1st August  2025.0  Unprovoked  Puerto Rico   \n",
      "\n",
      "                               State                             Location  \\\n",
      "0                            Florida               Cayo Costa Boca Grande   \n",
      "1                                NSW                       Cabarita Beach   \n",
      "2  Atlantic Ocean near Big Grand Cay  North of Grand Bahama near Freeport   \n",
      "3                                NSW                        Tathra Beach    \n",
      "4                           Carolina                       Carolina Beach   \n",
      "\n",
      "       Activity          Name Sex Age  ...                 Species   \\\n",
      "0       Fishing   Shawn Meuse   M   ?  ...  Lemon shark 1.8 m (6ft)   \n",
      "1       Surfing     Brad Ross   M   ?  ...  5m (16.5ft) Great White   \n",
      "2  Spearfishing    Not stated   M  63  ...             Undetermined   \n",
      "3       Surfing   Bowie Daley   M   9  ...    Suspected Great White   \n",
      "4        Wading  Eleonora Boi   F  39  ...             Undetermined   \n",
      "\n",
      "                                              Source  pdf href formula href  \\\n",
      "0  Johannes Marchand: Kevin McMurray Trackingshar...  NaN          NaN  NaN   \n",
      "1  Bob Myatt GSAF The Guardian: 9 News: ABS News:...  NaN          NaN  NaN   \n",
      "2  Ralph Collier GSAF and Kevin MCMurray Tracking...  NaN          NaN  NaN   \n",
      "3                                     Bob Myatt GSAF  NaN          NaN  NaN   \n",
      "4         Kevin McMurray Trackingsharks.com: NY Post  NaN          NaN  NaN   \n",
      "\n",
      "  Case Number Case Number.1 original order Unnamed: 21 Unnamed: 22  \n",
      "0         NaN           NaN            NaN         NaN         NaN  \n",
      "1         NaN           NaN            NaN         NaN         NaN  \n",
      "2         NaN           NaN            NaN         NaN         NaN  \n",
      "3         NaN           NaN            NaN         NaN         NaN  \n",
      "4         NaN           NaN            NaN         NaN         NaN  \n",
      "\n",
      "[5 rows x 23 columns]\n"
     ]
    }
   ],
   "source": [
    "# Drop columns with all missing (NaN) values\n",
    "shark_attack_df.dropna(axis=1, how='all', inplace=True)\n",
    "\n",
    "# Check the resulting dataframe to make sure it's cleaned up\n",
    "print(shark_attack_df.head())"
   ]
  },
  {
   "cell_type": "markdown",
   "id": "f6131894",
   "metadata": {},
   "source": [
    "Q2.3"
   ]
  },
  {
   "cell_type": "code",
   "execution_count": 27,
   "id": "9418fea9",
   "metadata": {},
   "outputs": [
    {
     "name": "stdout",
     "output_type": "stream",
     "text": [
      "count    5507.000000\n",
      "mean     1992.225350\n",
      "std        24.169336\n",
      "min      1940.000000\n",
      "25%      1970.000000\n",
      "50%      2000.000000\n",
      "75%      2013.000000\n",
      "max      2026.000000\n",
      "Name: Year, dtype: float64\n",
      "Year\n",
      "1940.0     24\n",
      "1941.0     27\n",
      "1942.0     41\n",
      "1943.0     28\n",
      "1944.0     31\n",
      "         ... \n",
      "2022.0     98\n",
      "2023.0    109\n",
      "2024.0     52\n",
      "2025.0     48\n",
      "2026.0      1\n",
      "Name: count, Length: 87, dtype: int64\n"
     ]
    }
   ],
   "source": [
    "# Clean the 'Year' column by converting it to numeric values (force errors to NaN)\n",
    "shark_attack_df['Year'] = pd.to_numeric(shark_attack_df['Year'], errors='coerce')\n",
    "\n",
    "# Filter rows for attacks since 1940\n",
    "shark_attack_df = shark_attack_df[shark_attack_df['Year'] >= 1940]\n",
    "\n",
    "# Describe the range of years\n",
    "year_range = shark_attack_df['Year'].describe()\n",
    "\n",
    "# Check how attacks have changed over time (e.g., yearly attack counts)\n",
    "attacks_by_year = shark_attack_df['Year'].value_counts().sort_index()\n",
    "\n",
    "# Display the results\n",
    "print(year_range)\n",
    "print(attacks_by_year)\n"
   ]
  },
  {
   "cell_type": "markdown",
   "id": "dc118ec1",
   "metadata": {},
   "source": [
    "Q2.4"
   ]
  },
  {
   "cell_type": "code",
   "execution_count": 28,
   "id": "2f3fe5a3",
   "metadata": {},
   "outputs": [
    {
     "data": {
      "image/png": "[encoded data removed]",
      "text/plain": [
       "<Figure size 640x480 with 1 Axes>"
      ]
     },
     "metadata": {},
     "output_type": "display_data"
    }
   ],
   "source": [
    "import matplotlib.pyplot as plt\n",
    "\n",
    "# Clean the 'Age' column (convert to numeric, set errors to NaN)\n",
    "shark_attack_df['Age'] = pd.to_numeric(shark_attack_df['Age'], errors='coerce')\n",
    "\n",
    "# Plot a histogram of the ages\n",
    "plt.hist(shark_attack_df['Age'].dropna(), bins=20, edgecolor='black')\n",
    "plt.xlabel('Age')\n",
    "plt.ylabel('Number of Victims')\n",
    "plt.title('Histogram of Victim Ages')\n",
    "plt.show()"
   ]
  },
  {
   "cell_type": "markdown",
   "id": "b2472a6c",
   "metadata": {},
   "source": [
    "Q2.5"
   ]
  },
  {
   "cell_type": "code",
   "execution_count": 29,
   "id": "f7f8e475",
   "metadata": {},
   "outputs": [
    {
     "name": "stdout",
     "output_type": "stream",
     "text": [
      "Proportion of male victims: 0.86\n"
     ]
    }
   ],
   "source": [
    "# Calculate the proportion of male victims\n",
    "male_proportion = shark_attack_df['Sex'].value_counts(normalize=True).get('M', 0)\n",
    "\n",
    "print(f\"Proportion of male victims: {male_proportion:.2f}\")\n"
   ]
  },
  {
   "cell_type": "markdown",
   "id": "2722f6d0",
   "metadata": {},
   "source": [
    "Q2.6"
   ]
  },
  {
   "cell_type": "code",
   "execution_count": 30,
   "id": "a425736a",
   "metadata": {},
   "outputs": [
    {
     "name": "stdout",
     "output_type": "stream",
     "text": [
      "['Provoked' 'Unprovoked' 'Unknown']\n",
      "Proportion of unprovoked attacks: 0.74\n"
     ]
    }
   ],
   "source": [
    "# Standardize the text (lowercase) and clean the 'Type' column\n",
    "shark_attack_df['Type'] = shark_attack_df['Type'].str.strip().str.lower()\n",
    "\n",
    "# Replace variations of 'Unprovoked' and 'Provoked' with 'Unprovoked' and 'Provoked'\n",
    "shark_attack_df['Type'] = shark_attack_df['Type'].replace({\n",
    "    'unprovoked': 'Unprovoked',\n",
    "    'provoked': 'Provoked',\n",
    "    'questionable': 'Unknown',\n",
    "    'unverified': 'Unknown',\n",
    "    'unconfirmed': 'Unknown',\n",
    "    'watercraft': 'Unknown',\n",
    "    'sea disaster': 'Unknown',\n",
    "    'invalid': 'Unknown',\n",
    "    'under investigation': 'Unknown',\n",
    "    'boat': 'Unknown',\n",
    "    '': 'Unknown',\n",
    "    '?': 'Unknown',\n",
    "    np.nan: 'Unknown'  # Also replace NaN with 'Unknown'\n",
    "})\n",
    "\n",
    "# Check the unique values after cleaning\n",
    "print(shark_attack_df['Type'].unique())\n",
    "\n",
    "\n",
    "# Calculate the proportion of unprovoked attacks\n",
    "unprovoked_proportion = shark_attack_df['Type'].value_counts(normalize=True).get('Unprovoked', 0)\n",
    "\n",
    "print(f\"Proportion of unprovoked attacks: {unprovoked_proportion:.2f}\")\n"
   ]
  },
  {
   "cell_type": "markdown",
   "id": "d31d673b",
   "metadata": {},
   "source": [
    "Q2.7"
   ]
  },
  {
   "cell_type": "code",
   "execution_count": 31,
   "id": "de3e411e",
   "metadata": {},
   "outputs": [
    {
     "name": "stdout",
     "output_type": "stream",
     "text": [
      "Fatal Y/N\n",
      "N          4221\n",
      "Y           825\n",
      "Unknown     461\n",
      "Name: count, dtype: int64\n"
     ]
    }
   ],
   "source": [
    "# Standardize the text (convert to uppercase and strip any spaces)\n",
    "shark_attack_df['Fatal Y/N'] = shark_attack_df['Fatal Y/N'].str.upper().str.strip()\n",
    "\n",
    "# Replace invalid or misrepresented values with 'Unknown'\n",
    "shark_attack_df['Fatal Y/N'] = shark_attack_df['Fatal Y/N'].replace({\n",
    "    'F': 'Unknown',\n",
    "    'M': 'Unknown',\n",
    "    'Nq': 'Unknown',\n",
    "    'NQ': 'Unknown',\n",
    "    'UNKNOWN': 'Unknown',\n",
    "    np.nan: 'Unknown',\n",
    "    '': 'Unknown',\n",
    "    'Y x 2': 'Y',  # Handling the 'Y x 2' case as 'Y'\n",
    "    2017: 'Unknown',  # Handle the numeric value 2017 as 'Unknown'\n",
    "    ' N': 'N',  # Removing leading spaces and correcting the value\n",
    "    'Y X 2': 'Y',\n",
    "})\n",
    "\n",
    "# Display the cleaned 'Fatal Y/N' column\n",
    "print(shark_attack_df['Fatal Y/N'].value_counts())\n",
    "\n"
   ]
  },
  {
   "cell_type": "markdown",
   "id": "16fb3b12",
   "metadata": {},
   "source": [
    "Q2.8"
   ]
  },
  {
   "cell_type": "code",
   "execution_count": 33,
   "id": "0018418c",
   "metadata": {},
   "outputs": [
    {
     "name": "stdout",
     "output_type": "stream",
     "text": [
      "Proportion of unprovoked attacks on men vs women:\n",
      "Sex\n",
      "M          0.815764\n",
      "F          0.149585\n",
      "Unknown    0.034651\n",
      "Name: proportion, dtype: float64\n",
      "\n",
      "Fatality rate by attack type:\n",
      "Fatal Y/N          N   Unknown         Y\n",
      "Type                                    \n",
      "Provoked    0.957692  0.017308  0.025000\n",
      "Unknown     0.411699  0.448819  0.139483\n",
      "Unprovoked  0.819180  0.012933  0.167887\n",
      "\n",
      "Fatality rate by gender:\n",
      "Fatal Y/N         N   Unknown         Y\n",
      "Sex                                    \n",
      "F          0.794444  0.081944  0.123611\n",
      "M          0.773189  0.074527  0.152284\n",
      "Unknown    0.657837  0.174393  0.167770\n"
     ]
    }
   ],
   "source": [
    "# Clean the 'Sex' column by:\n",
    "# 1. Stripping any leading or trailing spaces\n",
    "# 2. Converting everything to uppercase\n",
    "# 3. Replacing any invalid values with 'Unknown'\n",
    "shark_attack_df['Sex'] = shark_attack_df['Sex'].str.upper().str.strip()\n",
    "\n",
    "# Replace any unexpected values (e.g., 'lli') with 'Unknown'\n",
    "shark_attack_df['Sex'] = shark_attack_df['Sex'].replace({\n",
    "    'M': 'M',  # Male\n",
    "    'F': 'F',  # Female\n",
    "    'M ': 'M', # Handle any spaces after 'M'\n",
    "    'f': 'F',  # Handle lowercase 'f'\n",
    "    'lli': 'Unknown',  # Example of an invalid value\n",
    "    'LLI': 'Unknown',  # Another invalid value\n",
    "    np.nan: 'Unknown',  # Missing values\n",
    "    'UNKNOWN': 'Unknown',\n",
    "    'M X 2': 'M',  # Handle the 'M x 2' case as 'M'\n",
    "    'N': 'Unknown',  # Handle 'N' as 'Unknown'\n",
    "    '.': 'Unknown',  # Handle '.' as 'Unknown'\n",
    "})\n",
    "\n",
    "# Check if unprovoked attacks are more likely on men or women\n",
    "unprovoked_gender = shark_attack_df[shark_attack_df['Type'] == 'Unprovoked']['Sex'].value_counts(normalize=True)\n",
    "\n",
    "# Calculate the fatality rate for unprovoked vs provoked attacks\n",
    "fatality_by_type = shark_attack_df.groupby('Type')['Fatal Y/N'].value_counts(normalize=True).unstack()\n",
    "\n",
    "# Calculate the fatality rate by gender\n",
    "fatality_by_gender = shark_attack_df.groupby('Sex')['Fatal Y/N'].value_counts(normalize=True).unstack()\n",
    "\n",
    "# Display results\n",
    "print(f\"Proportion of unprovoked attacks on men vs women:\\n{unprovoked_gender}\")\n",
    "print(f\"\\nFatality rate by attack type:\\n{fatality_by_type}\")\n",
    "print(f\"\\nFatality rate by gender:\\n{fatality_by_gender}\")\n"
   ]
  },
  {
   "cell_type": "markdown",
   "id": "3c7b8e2e",
   "metadata": {},
   "source": [
    "Q2.9"
   ]
  },
  {
   "cell_type": "code",
   "execution_count": 34,
   "id": "d2161dec",
   "metadata": {},
   "outputs": [
    {
     "name": "stdout",
     "output_type": "stream",
     "text": [
      "Proportion of attacks by white sharks: 0.13\n"
     ]
    }
   ],
   "source": [
    "# Clean the 'Species' column and check for attacks by white sharks\n",
    "shark_attack_df['Species '] = shark_attack_df['Species '].str.split().str[0]  # Split and keep the first word (e.g., \"White Shark\")\n",
    "\n",
    "# Calculate the proportion of attacks by white sharks\n",
    "white_shark_proportion = shark_attack_df['Species '].value_counts(normalize=True).get('White', 0)\n",
    "\n",
    "print(f\"Proportion of attacks by white sharks: {white_shark_proportion:.2f}\")\n"
   ]
  }
 ],
 "metadata": {
  "colab": {
   "provenance": []
  },
  "kernelspec": {
   "display_name": "base",
   "language": "python",
   "name": "python3"
  },
  "language_info": {
   "codemirror_mode": {
    "name": "ipython",
    "version": 3
   },
   "file_extension": ".py",
   "mimetype": "text/x-python",
   "name": "python",
   "nbconvert_exporter": "python",
   "pygments_lexer": "ipython3",
   "version": "3.12.7"
  }
 },
 "nbformat": 4,
 "nbformat_minor": 5
}
